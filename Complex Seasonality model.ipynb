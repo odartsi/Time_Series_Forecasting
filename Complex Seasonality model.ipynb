{
 "cells": [
  {
   "cell_type": "code",
   "execution_count": 4,
   "metadata": {},
   "outputs": [],
   "source": [
    "from tbats import TBATS, BATS\n",
    "import pandas as pd\n",
    "import numpy as np\n",
    "import matplotlib.pyplot as plt\n",
    "import seaborn as sns\n",
    "\n",
    "%matplotlib inline "
   ]
  },
  {
   "cell_type": "code",
   "execution_count": 5,
   "metadata": {},
   "outputs": [],
   "source": []
  },
  {
   "cell_type": "code",
   "execution_count": 6,
   "metadata": {},
   "outputs": [],
   "source": [
    "## function to fomat the data\n",
    "def data_format(df):\n",
    "    df=df.drop(['Unnamed: 0','campaign_name', 'adset_name', 'ad_name','inline_link_click_ctr', 'inline_post_engagement',\n",
    "       'instant_experience_clicks_to_open',\n",
    "       'instant_experience_clicks_to_start',\n",
    "       'instant_experience_outbound_clicks', 'interactive_component_tap_value',\n",
    "       'objective','updated_time','website_ctr_link_click'],axis=1)\n",
    "    df=df.rename(columns={'cost_per_action_type_video_view':'cpa_video_view'})\n",
    "    df=df.rename(columns={'cost_per_action_type_link_click':'cpa_link_click'})\n",
    "    df=df.rename(columns={'cost_per_action_type_onsite_conversion.post_save':'cpa_on_conv'})\n",
    "    df=df.rename(columns={'cost_per_action_type_omni_activate_app':'cpa_all_act_app'})\n",
    "    df=df.rename(columns={'cost_per_action_type_post_engagement':'cpa_post_eng'})\n",
    "    df=df.rename(columns={'cost_per_action_type_page_engagement':'cpa_pg_eng'})\n",
    "    df=df.rename(columns={'cost_per_action_type_omni_app_install':'cpa_all_app_install'})\n",
    "    df=df.rename(columns={'cost_per_inline_link_click':'cpinl_link_click'})\n",
    "    df=df.rename(columns={'cost_per_inline_post_engagement':'cpinl_post_eng'})\n",
    "    df=df.rename(columns={'cost_per_outbound_click_outbound_click':'cpo_click'})\n",
    "    df=df.rename(columns={'hourly_stats_aggregated_by_advertiser_time_zone':'time'})\n",
    "    df=df.rename(columns={'actions_mobile_app_install':'mobile_conv'})\n",
    "    df=df.rename(columns={'actions_omni_app_install':'all_conv'})\n",
    "    df['CR']=round((df.mobile_conv/df.clicks) *100, 2)\n",
    "    df['CTR']=round((df.clicks / df.impressions) * 100,4)\n",
    "    df['CPC']= round(df.spend / df.clicks,2)\n",
    "    df['costPerCon'] = round(df.spend / df.mobile_conv, 2)\n",
    "    df['CPM'] = round((df.spend / df.impressions) * 1000, 2)\n",
    "\n",
    "    df=df.dropna(subset=['time'])\n",
    "    df.time=df.time.replace('00:00:00 - 00:59:59',1)\n",
    "    df.time=df.time.replace('01:00:00 - 01:59:59',2)\n",
    "    df.time=df.time.replace('02:00:00 - 02:59:59',3)\n",
    "    df.time=df.time.replace('03:00:00 - 03:59:59',4)\n",
    "    df.time=df.time.replace('04:00:00 - 04:59:59',5)\n",
    "    df.time=df.time.replace('05:00:00 - 05:59:59',6)\n",
    "    df.time=df.time.replace('06:00:00 - 06:59:59',7)\n",
    "    df.time=df.time.replace('07:00:00 - 07:59:59',8)\n",
    "    df.time=df.time.replace('08:00:00 - 08:59:59',9)\n",
    "    df.time=df.time.replace('09:00:00 - 09:59:59',10)\n",
    "    df.time=df.time.replace('10:00:00 - 10:59:59',11)\n",
    "    df.time=df.time.replace('11:00:00 - 11:59:59',12)\n",
    "    df.time=df.time.replace('12:00:00 - 12:59:59',13)\n",
    "    df.time=df.time.replace('13:00:00 - 13:59:59',14)\n",
    "    df.time=df.time.replace('14:00:00 - 14:59:59',15)\n",
    "    df.time=df.time.replace('15:00:00 - 15:59:59',16)\n",
    "    df.time=df.time.replace('16:00:00 - 16:59:59',17)\n",
    "    df.time=df.time.replace('17:00:00 - 17:59:59',18)\n",
    "    df.time=df.time.replace('18:00:00 - 18:59:59',19)\n",
    "    df.time=df.time.replace('19:00:00 - 19:59:59',20)\n",
    "    df.time=df.time.replace('20:00:00 - 20:59:59',21)\n",
    "    df.time=df.time.replace('21:00:00 - 21:59:59',22)\n",
    "    df.time=df.time.replace('22:00:00 - 22:59:59',23)\n",
    "    df.time=df.time.replace('23:00:00 - 23:59:59',24)\n",
    "    df['day']=pd.to_datetime(df['date_start']).dt.day\n",
    "    df['Time']=df['time']#+24*(df['day']-1)\n",
    "    df['week']=pd.to_datetime(df['date_start']).dt.week\n",
    "    df.drop(df.tail(1).index,inplace = True)\n",
    "    return df\n",
    "\n",
    "file='../Timing Analysis/data/ad_Aug_hourly_advertiser_time.csv'\n",
    "df=pd.read_csv(file)\n",
    "df=data_format(df)"
   ]
  },
  {
   "cell_type": "code",
   "execution_count": 7,
   "metadata": {},
   "outputs": [],
   "source": [
    "grouped = pd.DataFrame(df.groupby(['Time','week'])['mobile_conv'].sum().reset_index())"
   ]
  },
  {
   "cell_type": "code",
   "execution_count": 9,
   "metadata": {},
   "outputs": [],
   "source": [
    "train = grouped.mobile_conv[:80]\n",
    "test = grouped.mobile_conv[80:]"
   ]
  },
  {
   "cell_type": "code",
   "execution_count": 18,
   "metadata": {},
   "outputs": [
    {
     "name": "stderr",
     "output_type": "stream",
     "text": [
      "/opt/conda/lib/python3.7/site-packages/tbats/error/ExceptionHandler.py:13: InputArgsWarning: All seasonal periods should be values greater than 1. Ignoring all seasonal period values that do not meet this condition.\n",
      "  warnings.warn(message, warning_type)\n"
     ]
    }
   ],
   "source": [
    "estimator = TBATS(seasonal_periods=(1/24, 7))\n",
    "model = estimator.fit(train)\n",
    "# # Forecast 365 days ahead\n",
    "y_forecast = model.forecast(steps=4)"
   ]
  },
  {
   "cell_type": "code",
   "execution_count": 19,
   "metadata": {},
   "outputs": [
    {
     "data": {
      "text/plain": [
       "array([ 49.33363392,  38.8703064 , -14.34213724,   6.09668576])"
      ]
     },
     "execution_count": 19,
     "metadata": {},
     "output_type": "execute_result"
    }
   ],
   "source": [
    "y_forecast"
   ]
  },
  {
   "cell_type": "code",
   "execution_count": 13,
   "metadata": {},
   "outputs": [
    {
     "data": {
      "text/html": [
       "<div>\n",
       "<style scoped>\n",
       "    .dataframe tbody tr th:only-of-type {\n",
       "        vertical-align: middle;\n",
       "    }\n",
       "\n",
       "    .dataframe tbody tr th {\n",
       "        vertical-align: top;\n",
       "    }\n",
       "\n",
       "    .dataframe thead th {\n",
       "        text-align: right;\n",
       "    }\n",
       "</style>\n",
       "<table border=\"1\" class=\"dataframe\">\n",
       "  <thead>\n",
       "    <tr style=\"text-align: right;\">\n",
       "      <th></th>\n",
       "      <th>Time</th>\n",
       "      <th>week</th>\n",
       "      <th>mobile_conv</th>\n",
       "    </tr>\n",
       "  </thead>\n",
       "  <tbody>\n",
       "    <tr>\n",
       "      <th>80</th>\n",
       "      <td>14</td>\n",
       "      <td>33</td>\n",
       "      <td>62.0</td>\n",
       "    </tr>\n",
       "    <tr>\n",
       "      <th>81</th>\n",
       "      <td>14</td>\n",
       "      <td>34</td>\n",
       "      <td>26.0</td>\n",
       "    </tr>\n",
       "    <tr>\n",
       "      <th>82</th>\n",
       "      <td>14</td>\n",
       "      <td>35</td>\n",
       "      <td>6.0</td>\n",
       "    </tr>\n",
       "    <tr>\n",
       "      <th>83</th>\n",
       "      <td>14</td>\n",
       "      <td>36</td>\n",
       "      <td>1.0</td>\n",
       "    </tr>\n",
       "    <tr>\n",
       "      <th>84</th>\n",
       "      <td>15</td>\n",
       "      <td>31</td>\n",
       "      <td>40.0</td>\n",
       "    </tr>\n",
       "    <tr>\n",
       "      <th>...</th>\n",
       "      <td>...</td>\n",
       "      <td>...</td>\n",
       "      <td>...</td>\n",
       "    </tr>\n",
       "    <tr>\n",
       "      <th>139</th>\n",
       "      <td>24</td>\n",
       "      <td>32</td>\n",
       "      <td>128.0</td>\n",
       "    </tr>\n",
       "    <tr>\n",
       "      <th>140</th>\n",
       "      <td>24</td>\n",
       "      <td>33</td>\n",
       "      <td>110.0</td>\n",
       "    </tr>\n",
       "    <tr>\n",
       "      <th>141</th>\n",
       "      <td>24</td>\n",
       "      <td>34</td>\n",
       "      <td>82.0</td>\n",
       "    </tr>\n",
       "    <tr>\n",
       "      <th>142</th>\n",
       "      <td>24</td>\n",
       "      <td>35</td>\n",
       "      <td>30.0</td>\n",
       "    </tr>\n",
       "    <tr>\n",
       "      <th>143</th>\n",
       "      <td>24</td>\n",
       "      <td>36</td>\n",
       "      <td>2.0</td>\n",
       "    </tr>\n",
       "  </tbody>\n",
       "</table>\n",
       "<p>64 rows × 3 columns</p>\n",
       "</div>"
      ],
      "text/plain": [
       "     Time  week  mobile_conv\n",
       "80     14    33         62.0\n",
       "81     14    34         26.0\n",
       "82     14    35          6.0\n",
       "83     14    36          1.0\n",
       "84     15    31         40.0\n",
       "..    ...   ...          ...\n",
       "139    24    32        128.0\n",
       "140    24    33        110.0\n",
       "141    24    34         82.0\n",
       "142    24    35         30.0\n",
       "143    24    36          2.0\n",
       "\n",
       "[64 rows x 3 columns]"
      ]
     },
     "execution_count": 13,
     "metadata": {},
     "output_type": "execute_result"
    }
   ],
   "source": [
    "grouped.tail(64)"
   ]
  },
  {
   "cell_type": "code",
   "execution_count": null,
   "metadata": {},
   "outputs": [],
   "source": []
  }
 ],
 "metadata": {
  "kernelspec": {
   "display_name": "Python 3",
   "language": "python",
   "name": "python3"
  },
  "language_info": {
   "codemirror_mode": {
    "name": "ipython",
    "version": 3
   },
   "file_extension": ".py",
   "mimetype": "text/x-python",
   "name": "python",
   "nbconvert_exporter": "python",
   "pygments_lexer": "ipython3",
   "version": "3.7.6"
  }
 },
 "nbformat": 4,
 "nbformat_minor": 4
}
